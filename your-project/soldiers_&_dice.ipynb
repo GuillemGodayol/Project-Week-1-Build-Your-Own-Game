{
 "cells": [
  {
   "cell_type": "code",
   "execution_count": 1,
   "metadata": {},
   "outputs": [],
   "source": [
    "import random"
   ]
  },
  {
   "cell_type": "code",
   "execution_count": 2,
   "metadata": {},
   "outputs": [
    {
     "name": "stdout",
     "output_type": "stream",
     "text": [
      "How many soldiers are DEFENDING your territory?3\n"
     ]
    }
   ],
   "source": [
    "# Ask for the number of defending soldiers. It has to be an integer bigger than 0. \n",
    "# To get a short game, it is limited to 10.\n",
    "\n",
    "def_soldiers = int(input(\"How many soldiers are DEFENDING your territory?\"))\n",
    "while def_soldiers < 1 or def_soldiers > 11:\n",
    "    print(\"The number of soldiers must be between 1 and 10\")\n",
    "    def_soldiers = int(input(\"How many soldiers are DEFENDING your territory?\"))"
   ]
  },
  {
   "cell_type": "code",
   "execution_count": 3,
   "metadata": {},
   "outputs": [
    {
     "name": "stdout",
     "output_type": "stream",
     "text": [
      "How many soldiers are ATTACKING the new territory?5\n"
     ]
    }
   ],
   "source": [
    "# Ask for the number of attacking soldiers. It has to be an integer bigger than 0. \n",
    "# To get a short game, it is limited to 10.\n",
    "\n",
    "att_soldiers = int(input(\"How many soldiers are ATTACKING the new territory?\"))\n",
    "while att_soldiers < 1 or att_soldiers > 11:\n",
    "    print(\"The number of soldiers must be between 1 and 10\")\n",
    "    att_soldiers = int(input(\"How many soldiers are ATTACKING the new territory?\"))"
   ]
  },
  {
   "cell_type": "code",
   "execution_count": 4,
   "metadata": {},
   "outputs": [
    {
     "name": "stdout",
     "output_type": "stream",
     "text": [
      "\n",
      "\n",
      "For the next round, there are 3 DEFENSIVE soldiers and 5 ATTACKING soldiers\n",
      "How many DICES do you want to use to DEFEND your territory?2\n",
      "How many DICES do you want to use to ATTACK the new territory?3\n",
      "\n",
      "\n",
      "The rolls for defending dices in this round are:  [3, 2]\n",
      "\n",
      "\n",
      "The rolls for attacking dices in this round are:  [6, 4, 1]\n",
      "\n",
      "\n",
      "Defenders loose 2 soldiers.\n",
      "\n",
      "\n",
      "Round is finished.\n",
      "\n",
      "\n",
      "For the next round, there are 1 DEFENSIVE soldiers and 5 ATTACKING soldiers\n",
      "How many DICES do you want to use to ATTACK the new territory?2\n",
      "\n",
      "\n",
      "The rolls for defending dices in this round are:  [5]\n",
      "\n",
      "\n",
      "The rolls for attacking dices in this round are:  [1, 2]\n",
      "\n",
      "\n",
      "GAME OVER. Defending soldiers WIN!\n"
     ]
    }
   ],
   "source": [
    "# Here is where the round starts. \n",
    "# There are some rules to take into account: \n",
    "    # The number of defending dices can be 1 or 2.\n",
    "    # The number of attacking dices can be 1, 2 or 3.\n",
    "\n",
    "two_dices = [1, 2]\n",
    "three_dices = [1, 2, 3]\n",
    "\n",
    "# It will be a loop until there is a winner.\n",
    "\n",
    "while def_soldiers > 0 and att_soldiers > 0:\n",
    "    print('\\n')\n",
    "    print(f'For the next round, there are {def_soldiers} DEFENSIVE soldiers and {att_soldiers} ATTACKING soldiers')\n",
    "    # at the beggining of the loop, the dice are set to 0, then the players will choose, if they can.\n",
    "    def_dices = 0\n",
    "    att_dices = 0\n",
    "\n",
    "    # check the number of remaining defending soldiers to decide the number of dices.\n",
    "    if def_soldiers == 1:\n",
    "        def_dices = 1\n",
    "    else:\n",
    "        def_dices = int(input(\"How many DICES do you want to use to DEFEND your territory?\"))\n",
    "        while def_dices not in two_dices:\n",
    "            print(\"The number of defending dices is limited to 2\")\n",
    "            def_dices = int(input(\"How many DICES do you want to use to DEFEND your territory?\"))\n",
    "            \n",
    "    # check the number of remaining attacking soldiers to decide the number of dices.\n",
    "    if att_soldiers == 1:\n",
    "        att_dices = 1\n",
    "    elif att_soldiers == 2:\n",
    "        att_dices = int(input(\"How many DICES do you want to use to ATTACK the new territory?\"))\n",
    "        while att_dices not in two_dices:\n",
    "            print(\"The number of attacking dices is limited to 2\")\n",
    "            att_dices = int(input(\"How many DICES do you want to use to ATTACK the new territory?\"))\n",
    "    else:\n",
    "        att_dices = int(input(\"How many DICES do you want to use to ATTACK the new territory?\"))\n",
    "        while att_dices not in three_dices:\n",
    "            print(\"The number of attacking dices is limited to 3\")\n",
    "            att_dices = int(input(\"How many DICES do you want to use to ATTACK the new territory?\"))\n",
    "    \n",
    "    # generating random dice rolls\n",
    "    def_rolls = []\n",
    "    while len(def_rolls) < def_dices:\n",
    "        def_rolls.append(random.randint(1,6))\n",
    "    print('\\n')\n",
    "    print('The rolls for defending dices in this round are: ', def_rolls)\n",
    "    \n",
    "    att_rolls = []\n",
    "    while len(att_rolls) < att_dices:\n",
    "        att_rolls.append(random.randint(1,6))\n",
    "    print('\\n')\n",
    "    print('The rolls for attacking dices in this round are: ', att_rolls)\n",
    "    \n",
    "    # checking the results and updating the number of alive soldiers. \n",
    "    # each round, I will check the loses for each team, so we need to initate:\n",
    "    def_loses = 0\n",
    "    att_loses = 0\n",
    "    \n",
    "    # first roll\n",
    "    if max(att_rolls) > max(def_rolls):\n",
    "        def_loses += 1 \n",
    "    else:\n",
    "        att_loses += 1\n",
    "        \n",
    "    # second roll, if necessary\n",
    "    if len(def_rolls) == 1 or len(att_rolls) == 1:\n",
    "        break\n",
    "    else:\n",
    "        try:\n",
    "            att_rolls.remove(max(att_rolls))\n",
    "        except ValueError:\n",
    "            pass\n",
    "        if max(att_rolls) > min(def_rolls):\n",
    "            def_loses += 1\n",
    "        else:\n",
    "            att_loses += 1\n",
    "    \n",
    "    def_soldiers = def_soldiers - def_loses\n",
    "    att_soldiers = att_soldiers - att_loses\n",
    "    \n",
    "    if def_loses > 0:\n",
    "        print('\\n')\n",
    "        print(f'Defenders loose {def_loses} soldiers.')\n",
    "    \n",
    "    if att_loses > 0:\n",
    "        print('\\n')\n",
    "        print(f'Attackers loose {att_loses} soldiers.')\n",
    "    print('\\n')\n",
    "    print('Round is finished.')\n",
    "    \n",
    "if def_soldiers == 0:\n",
    "    print('\\n')\n",
    "    print('GAME OVER. Attacking soldiers WIN!')\n",
    "else:\n",
    "    print('\\n')\n",
    "    print('GAME OVER. Defending soldiers WIN!')\n",
    "    "
   ]
  },
  {
   "cell_type": "code",
   "execution_count": null,
   "metadata": {},
   "outputs": [],
   "source": []
  }
 ],
 "metadata": {
  "file_extension": ".py",
  "kernelspec": {
   "display_name": "Python 3",
   "language": "python",
   "name": "python3"
  },
  "language_info": {
   "codemirror_mode": {
    "name": "ipython",
    "version": 3
   },
   "file_extension": ".py",
   "mimetype": "text/x-python",
   "name": "python",
   "nbconvert_exporter": "python",
   "pygments_lexer": "ipython3",
   "version": "3.7.4"
  },
  "mimetype": "text/x-python",
  "name": "python",
  "npconvert_exporter": "python",
  "pygments_lexer": "ipython3",
  "version": 3
 },
 "nbformat": 4,
 "nbformat_minor": 2
}
