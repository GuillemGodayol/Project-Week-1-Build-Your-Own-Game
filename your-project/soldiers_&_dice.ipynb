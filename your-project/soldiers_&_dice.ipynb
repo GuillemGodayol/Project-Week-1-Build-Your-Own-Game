{
 "cells": [
  {
   "cell_type": "code",
   "execution_count": 1,
   "metadata": {},
   "outputs": [],
   "source": [
    "import random\n",
    "import re"
   ]
  },
  {
   "cell_type": "markdown",
   "metadata": {},
   "source": [
    "# First step is to define some functions"
   ]
  },
  {
   "cell_type": "markdown",
   "metadata": {},
   "source": [
    "## Function 'check_def_dices'\n",
    "\n",
    "With this function we check or assign the number of dices that will be used for the defending team. If there is just 1 soldier, the player can just use 1 dice. If theres more than 1 soldier, the player can choose to use 1 or 2 dices. \n",
    "\n",
    "In the function, we first check if there is 1 soldier, to assign just 1 dice. If there are more, then we ask the player to choose how many dices he/she wants to use. Then we check if this input is 1 or 2 and assign it into de variable or ask for a new input if the entered number is not valid."
   ]
  },
  {
   "cell_type": "code",
   "execution_count": 2,
   "metadata": {},
   "outputs": [],
   "source": [
    "# a function to check the number of dices to use by DEFENDING.\n",
    "def check_def_dices(soldiers_number):\n",
    "    if soldiers_number == 1:\n",
    "        return 1\n",
    "    else:\n",
    "        def_dices = int(input(\"How many DICES do you want to use to DEFEND your territory?\"))\n",
    "        while def_dices not in range(1,3):\n",
    "            print(\"The number of defending dices is limited to 2\")\n",
    "            def_dices = int(input(\"How many DICES do you want to use to DEFEND your territory?\"))\n",
    "        return def_dices\n"
   ]
  },
  {
   "cell_type": "markdown",
   "metadata": {},
   "source": [
    "## Function 'check_att_dices'\n",
    "\n",
    "With this function we check or assign the number of dices that will be used for the defending team. If there is just 1 soldier, the player can just use 1 dice. If theres more than 1 soldier, the player can choose to use 1 or 2 dices.\n",
    "\n",
    "In the function, we first check if there is 1 soldier, to assign just 1 dice. If there are more, then we ask the player to choose how many dices he/she wants to use. Then we check if this input is 1 or 2 and assign it into de variable or ask for a new input if the entered number is not valid."
   ]
  },
  {
   "cell_type": "code",
   "execution_count": 3,
   "metadata": {},
   "outputs": [],
   "source": [
    "# a function to check the number of dices to use by ATTACKING:\n",
    "def check_att_dices(soldiers_number):\n",
    "    if soldiers_number == 1:\n",
    "        return 1\n",
    "    elif soldiers_number == 2:\n",
    "        att_dices = int(input(\"How many DICES do you want to use to ATTACK the new territory?\"))\n",
    "        while att_dices not in range(1,3):\n",
    "            print(\"The number of attacking dices is limited to 2\")\n",
    "            att_dices = int(input(\"How many DICES do you want to use to ATTACK the new territory?\"))\n",
    "    else:\n",
    "        att_dices = int(input(\"How many DICES do you want to use to ATTACK the new territory?\"))\n",
    "        while att_dices not in range(1,4):\n",
    "            print(\"The number of attacking dices is limited to 3\")\n",
    "            att_dices = int(input(\"How many DICES do you want to use to ATTACK the new territory?\"))\n",
    "    return att_dices"
   ]
  },
  {
   "cell_type": "markdown",
   "metadata": {},
   "source": [
    "## Function \"roll_dices\"\n",
    "\n",
    "For this function we need the number of dices as an input. We will generate a list with the random numbers from 1 to 6 with as many arguments as the numbers of dices we have. \n",
    "\n",
    "It is valid for any team, as we will assign the result in different variables."
   ]
  },
  {
   "cell_type": "code",
   "execution_count": 4,
   "metadata": {},
   "outputs": [],
   "source": [
    "def roll_dices(num_of_dices):\n",
    "    rolls = []\n",
    "    while len(rolls) < num_of_dices:\n",
    "        rolls.append(random.randint(1,6))\n",
    "    return rolls"
   ]
  },
  {
   "cell_type": "code",
   "execution_count": null,
   "metadata": {},
   "outputs": [],
   "source": []
  },
  {
   "cell_type": "code",
   "execution_count": 5,
   "metadata": {},
   "outputs": [
    {
     "name": "stdout",
     "output_type": "stream",
     "text": [
      "How many soldiers are DEFENDING your territory?3\n"
     ]
    }
   ],
   "source": [
    "# Ask for the number of defending soldiers. It has to be an integer bigger than 0. \n",
    "# To get a short game, it is limited to 10.\n",
    "\n",
    "def_soldiers = int(input(\"How many soldiers are DEFENDING your territory?\"))\n",
    "\n",
    "while def_soldiers not in range(1,11):\n",
    "    print(\"The number of soldiers must be between 1 and 10\")\n",
    "    def_soldiers = int(input(\"How many soldiers are DEFENDING your territory?\"))"
   ]
  },
  {
   "cell_type": "code",
   "execution_count": 6,
   "metadata": {},
   "outputs": [
    {
     "name": "stdout",
     "output_type": "stream",
     "text": [
      "How many soldiers are ATTACKING the new territory?5\n"
     ]
    }
   ],
   "source": [
    "### Ask for the number of attacking soldiers. It has to be an integer bigger than 0. \n",
    "# To get a short game, it is limited to 10.\n",
    "\n",
    "att_soldiers = int(input(\"How many soldiers are ATTACKING the new territory?\"))\n",
    "while att_soldiers not in range(1,11):\n",
    "    print(\"The number of soldiers must be between 1 and 10\")\n",
    "    att_soldiers = int(input(\"How many soldiers are ATTACKING the new territory?\"))"
   ]
  },
  {
   "cell_type": "code",
   "execution_count": 7,
   "metadata": {},
   "outputs": [
    {
     "name": "stdout",
     "output_type": "stream",
     "text": [
      "\n",
      "\n",
      "For the next round, there are 3 DEFENSIVE soldiers and 5 ATTACKING soldiers\n",
      "How many DICES do you want to use to DEFEND your territory?2\n",
      "How many DICES do you want to use to ATTACK the new territory?3\n",
      "\n",
      "\n",
      "The rolls for defending dices in this round are:  [4, 3]\n",
      "\n",
      "\n",
      "The rolls for attacking dices in this round are:  [1, 3, 4]\n",
      "\n",
      "\n",
      "Attackers loose 2 soldiers.\n",
      "\n",
      "\n",
      "Round is finished.\n",
      "\n",
      "\n",
      "For the next round, there are 3 DEFENSIVE soldiers and 3 ATTACKING soldiers\n",
      "How many DICES do you want to use to DEFEND your territory?2\n",
      "How many DICES do you want to use to ATTACK the new territory?3\n",
      "\n",
      "\n",
      "The rolls for defending dices in this round are:  [5, 5]\n",
      "\n",
      "\n",
      "The rolls for attacking dices in this round are:  [3, 2, 4]\n",
      "\n",
      "\n",
      "Attackers loose 2 soldiers.\n",
      "\n",
      "\n",
      "Round is finished.\n",
      "\n",
      "\n",
      "GAME OVER. Defending soldiers WIN!\n"
     ]
    }
   ],
   "source": [
    "# Here is where the round starts. \n",
    "\n",
    "# There will be a loop until there is a winner.\n",
    "\n",
    "while def_soldiers > 0 and att_soldiers > 1:\n",
    "    print('\\n')\n",
    "    print(f'For the next round, there are {def_soldiers} DEFENSIVE soldiers and {att_soldiers} ATTACKING soldiers')\n",
    "    # at the beggining of the loop, the dice are set to 0, then the players will choose, if they can.\n",
    "    def_dices = 0\n",
    "    att_dices = 0\n",
    "\n",
    "    # check the number of remaining defending soldiers to decide the number of dices.\n",
    "    def_dices = check_def_dices(def_soldiers)\n",
    "            \n",
    "    # check the number of remaining attacking soldiers to decide the number of dices.\n",
    "    att_dices = check_att_dices(att_soldiers)\n",
    "    \n",
    "    # generating random dice rolls\n",
    "    def_rolls = roll_dices(def_dices)\n",
    "    print('\\n')\n",
    "    print('The rolls for defending dices in this round are: ', def_rolls)\n",
    "    \n",
    "    att_rolls = roll_dices(att_dices)\n",
    "    print('\\n')\n",
    "    print('The rolls for attacking dices in this round are: ', att_rolls)\n",
    "    \n",
    "    # checking the results and updating the number of alive soldiers. \n",
    "    # each round, I will check the loses for each team, so we need to initate:\n",
    "    def_loses = 0\n",
    "    att_loses = 0\n",
    "    \n",
    "    # first roll\n",
    "    if max(att_rolls) > max(def_rolls):\n",
    "        def_loses += 1 \n",
    "    else:\n",
    "        att_loses += 1\n",
    "        \n",
    "    # second roll, if necessary\n",
    "    while len(def_rolls) > 1 and len(att_rolls) > 1:\n",
    "        try:\n",
    "            att_rolls.remove(max(att_rolls))\n",
    "        except ValueError:\n",
    "            pass\n",
    "        try:\n",
    "            def_rolls.remove(max(def_rolls))\n",
    "        except ValueError:\n",
    "            pass\n",
    "        if max(att_rolls) > max(def_rolls):\n",
    "            def_loses += 1\n",
    "        else:\n",
    "            att_loses += 1\n",
    "    \n",
    "    def_soldiers = def_soldiers - def_loses\n",
    "    att_soldiers = att_soldiers - att_loses\n",
    "    \n",
    "    if def_loses > 0:\n",
    "        print('\\n')\n",
    "        print(f'Defenders loose {def_loses} soldiers.')\n",
    "    \n",
    "    if att_loses > 0:\n",
    "        print('\\n')\n",
    "        print(f'Attackers loose {att_loses} soldiers.')\n",
    "    print('\\n')\n",
    "    print('Round is finished.')\n",
    "    \n",
    "if def_soldiers == 0:\n",
    "    print('\\n')\n",
    "    print('GAME OVER. Attacking soldiers WIN!')\n",
    "elif att_soldiers == 1:\n",
    "    print('\\n')\n",
    "    print('GAME OVER. Defending soldiers WIN!')\n"
   ]
  },
  {
   "cell_type": "code",
   "execution_count": null,
   "metadata": {},
   "outputs": [],
   "source": []
  }
 ],
 "metadata": {
  "file_extension": ".py",
  "kernelspec": {
   "display_name": "Python 3",
   "language": "python",
   "name": "python3"
  },
  "language_info": {
   "codemirror_mode": {
    "name": "ipython",
    "version": 3
   },
   "file_extension": ".py",
   "mimetype": "text/x-python",
   "name": "python",
   "nbconvert_exporter": "python",
   "pygments_lexer": "ipython3",
   "version": "3.7.4"
  },
  "mimetype": "text/x-python",
  "name": "python",
  "npconvert_exporter": "python",
  "pygments_lexer": "ipython3",
  "version": 3
 },
 "nbformat": 4,
 "nbformat_minor": 2
}
